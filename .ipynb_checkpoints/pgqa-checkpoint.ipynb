{
 "cells": [
  {
   "cell_type": "code",
   "execution_count": 11,
   "id": "a04b06a7-daaa-4d12-af5e-a59afb297e83",
   "metadata": {},
   "outputs": [
    {
     "name": "stdout",
     "output_type": "stream",
     "text": [
      "Bibliotecas importadas com sucesso!\n"
     ]
    }
   ],
   "source": [
    "# Célula 1: Importar Bibliotecas\n",
    "from selenium import webdriver\n",
    "from selenium.webdriver.chrome.service import Service\n",
    "from selenium.webdriver.common.by import By\n",
    "from selenium.webdriver.support.ui import WebDriverWait\n",
    "from selenium.webdriver.support import expected_conditions as EC\n",
    "import time\n",
    "import json # Para trabalhar com dados JSON\n",
    "import pandas as pd # Para análise de dados e criação de DataFrames\n",
    "import requests # Potencialmente para chamadas diretas à API\n",
    "from bs4 import BeautifulSoup # Ainda útil se houver algum conteúdo estático ou como fallback\n",
    "\n",
    "print(\"Bibliotecas importadas com sucesso!\")"
   ]
  },
  {
   "cell_type": "code",
   "execution_count": 12,
   "id": "f120548b-3abe-4a8f-a594-faf4f9038912",
   "metadata": {},
   "outputs": [
    {
     "name": "stdout",
     "output_type": "stream",
     "text": [
      "Navegado para: https://arcgis.cetesb.sp.gov.br/portal/apps/experiencebuilder/experience/?id=bdd0cbd4bf094df9a000bf663254c21f&page=Classifica%C3%A7%C3%A3o-Atual\n",
      "Carregamento inicial da página concluído. A aplicação do mapa deve estar visível.\n"
     ]
    }
   ],
   "source": [
    "# Célula 2: Configurar WebDriver e Navegar para o Site\n",
    "\n",
    "service = Service()\n",
    "options = webdriver.ChromeOptions()\n",
    "\n",
    "# MANTENHA O MODO HEADLESS DESATIVADO PARA DEPURAR INICIALMENTE!\n",
    "# Precisamos ver as requisições de rede.\n",
    "# options.add_argument('--headless')\n",
    "options.add_argument('--no-sandbox')\n",
    "options.add_argument('--disable-dev-shm-usage')\n",
    "options.add_argument('--start-maximized') # Maximiza a janela para melhor visualização\n",
    "\n",
    "driver = webdriver.Chrome(service=service, options=options)\n",
    "\n",
    "url = 'https://arcgis.cetesb.sp.gov.br/portal/apps/experiencebuilder/experience/?id=bdd0cbd4bf094df9a000bf663254c21f&page=Classifica%C3%A7%C3%A3o-Atual'\n",
    "driver.get(url)\n",
    "print(f\"Navegado para: {url}\")\n",
    "\n",
    "# Dê um tempo considerável para que a aplicação do mapa carregue todo o JavaScript\n",
    "time.sleep(15) # Tempo de espera aumentado para garantir o carregamento completo\n",
    "print(\"Carregamento inicial da página concluído. A aplicação do mapa deve estar visível.\")"
   ]
  },
  {
   "cell_type": "code",
   "execution_count": 13,
   "id": "d41c93ac-6625-417b-8f94-411d2b935133",
   "metadata": {},
   "outputs": [
    {
     "name": "stdout",
     "output_type": "stream",
     "text": [
      "Tentando buscar dados diretamente da API: https://arcgis.cetesb.sp.gov.br/server/rest/services/Hosted/Praias/FeatureServer/0/query\n",
      "Com os parâmetros: {'f': 'json', 'where': \"municipio = 'PRAIA GRANDE'\", 'returnGeometry': 'false', 'spatialRel': 'esriSpatialRelIntersects', 'outFields': '*', 'outSR': '4326'}\n",
      "\n",
      "Dados Extraídos (primeiras 5 linhas do DataFrame):\n",
      "   ID_Objeto ID_Praia ID_Municipio Cod_Municipio_IBGE     Municipio  \\\n",
      "0        134  PGCF390          558            3541000  PRAIA GRANDE   \n",
      "1        135  PGBO393          558            3541000  PRAIA GRANDE   \n",
      "2        138  PGJM398          558            3541000  PRAIA GRANDE   \n",
      "3        144  PGFL411          558            3541000  PRAIA GRANDE   \n",
      "4        137  PGAV397          558            3541000  PRAIA GRANDE   \n",
      "\n",
      "               Praia Classificacao_Agua Data_Amostra_Inicio  \\\n",
      "0     CANTO DO FORTE          Imprópria          2025-05-11   \n",
      "1          BOQUEIRÃO          Imprópria          2025-05-11   \n",
      "2          VILA TUPI          Imprópria          2025-05-11   \n",
      "3  BALNEARIO FLÓRIDA          Imprópria          2025-05-11   \n",
      "4            AVIAÇÃO          Imprópria          2025-05-11   \n",
      "\n",
      "  Data_Atualizacao_Sistema             UGRHI Dist_Norte  Qualidade_Codigo  \n",
      "0  2025-05-15 12:10:03.363  Baixada Santista        390                 0  \n",
      "1  2025-05-15 12:10:03.363  Baixada Santista        393                 0  \n",
      "2  2025-05-15 12:10:03.363  Baixada Santista        398                 0  \n",
      "3  2025-05-15 12:10:03.363  Baixada Santista        411                 0  \n",
      "4  2025-05-15 12:10:03.363  Baixada Santista        397                 0  \n",
      "\n",
      "Dados salvos com sucesso em 'qualidade_agua_praia_grande.csv'\n",
      "Navegador fechado (se o driver foi fechado).\n"
     ]
    }
   ],
   "source": [
    "# Célula 3: Obter Dados da API\n",
    "\n",
    "api_url_base = \"https://arcgis.cetesb.sp.gov.br/server/rest/services/Hosted/Praias/FeatureServer/0/query\"\n",
    "\n",
    "# Parâmetros ajustados com o nome exato do campo 'municipio'\n",
    "params = {\n",
    "    'f': 'json', # Formato de resposta JSON\n",
    "    'where': \"municipio = 'PRAIA GRANDE'\", # Campo 'municipio' em minúsculas, como no JSON\n",
    "    'returnGeometry': 'false',\n",
    "    'spatialRel': 'esriSpatialRelIntersects',\n",
    "    'outFields': '*', # Mantém para obter todos os campos (boa prática)\n",
    "    'outSR': '4326',\n",
    "}\n",
    "\n",
    "print(f\"Tentando buscar dados diretamente da API: {api_url_base}\")\n",
    "print(f\"Com os parâmetros: {params}\")\n",
    "\n",
    "try:\n",
    "    response = requests.get(api_url_base, params=params)\n",
    "    response.raise_for_status() # Levanta uma exceção para erros HTTP\n",
    "    data = response.json()\n",
    "\n",
    "    # --- Removido o print JSON completo aqui, já que você já o inspecionou ---\n",
    "\n",
    "    if 'features' in data:\n",
    "        beach_data = []\n",
    "        for feature in data['features']:\n",
    "            attributes = feature.get('attributes', {})\n",
    "\n",
    "            # Extração de atributos com os nomes EXATOS encontrados no JSON\n",
    "            # e conversão de timestamp para data legível, se existirem\n",
    "            data_amostra_inicio_ts = attributes.get('data_amostra_inicio')\n",
    "            data_atual_ts = attributes.get('data_atual')\n",
    "\n",
    "            # Converte timestamp (em milissegundos) para datetime\n",
    "            from datetime import datetime\n",
    "            data_amostra_inicio_dt = datetime.fromtimestamp(data_amostra_inicio_ts / 1000) if data_amostra_inicio_ts else 'N/A'\n",
    "            data_atual_dt = datetime.fromtimestamp(data_atual_ts / 1000) if data_atual_ts else 'N/A'\n",
    "\n",
    "\n",
    "            beach_info = {\n",
    "                'ID_Objeto': attributes.get('objectid', 'N/A'),\n",
    "                'ID_Praia': attributes.get('id_praia', 'N/A'),\n",
    "                'ID_Municipio': attributes.get('id_municipio', 'N/A'),\n",
    "                'Cod_Municipio_IBGE': attributes.get('cod_mun_ibge', 'N/A'),\n",
    "                'Municipio': attributes.get('municipio', 'N/A'), # Nome do campo EXATO\n",
    "                'Praia': attributes.get('praia', 'N/A'), # Nome do campo EXATO\n",
    "                'Classificacao_Agua': attributes.get('classificacao_texto', 'N/A'), # Nome do campo EXATO\n",
    "                'Data_Amostra_Inicio': data_amostra_inicio_dt,\n",
    "                'Data_Atualizacao_Sistema': data_atual_dt,\n",
    "                'UGRHI': attributes.get('ugrhi', 'N/A'),\n",
    "                'Dist_Norte': attributes.get('dist_norte', 'N/A'),\n",
    "                'Qualidade_Codigo': attributes.get('qualidade', 'N/A'), # O valor numérico da qualidade\n",
    "                # Adicione outros campos que você identificou como relevantes no JSON\n",
    "            }\n",
    "            beach_data.append(beach_info)\n",
    "\n",
    "        if beach_data:\n",
    "            df = pd.DataFrame(beach_data)\n",
    "            print(\"\\nDados Extraídos (primeiras 5 linhas do DataFrame):\")\n",
    "            print(df.head())\n",
    "\n",
    "            output_filename = 'qualidade_agua_praia_grande.csv'\n",
    "            df.to_csv(output_filename, index=False, encoding='utf-8')\n",
    "            print(f\"\\nDados salvos com sucesso em '{output_filename}'\")\n",
    "        else:\n",
    "            print(\"Nenhum dado de praia encontrado para 'Praia Grande'.\")\n",
    "            print(\"Verifique se o valor 'PRAIA GRANDE' no filtro 'where' está correto (case-sensitive?).\")\n",
    "\n",
    "    else:\n",
    "        print(\"Nenhuma 'features' (dados de atributos) encontrada na resposta da API. A estrutura da API pode ser diferente.\")\n",
    "        print(\"Resposta Completa da API (pode indicar erro ou estrutura inesperada):\")\n",
    "        print(json.dumps(data, indent=2))\n",
    "\n",
    "except requests.exceptions.RequestException as e:\n",
    "    print(f\"Erro ao buscar dados da API: {e}\")\n",
    "    print(\"Verifique sua conexão com a internet e se a URL da API está correta.\")\n",
    "    print(\"Se a API retornar um erro HTTP, pode ser que o filtro 'where' ainda esteja incorreto.\")\n",
    "    if 'response' in locals() and response.text:\n",
    "        print(\"Conteúdo da Resposta HTTP (se houver):\", response.text[:500])\n",
    "except json.JSONDecodeError:\n",
    "    print(\"Erro ao decodificar a resposta JSON da API. A resposta pode não ser um JSON válido ou estar vazia.\")\n",
    "    if 'response' in locals() and response.text:\n",
    "        print(\"Conteúdo da Resposta da API (primeiros 500 caracteres):\", response.text[:500])\n",
    "except Exception as e:\n",
    "    print(f\"Ocorreu um erro inesperado durante o processamento dos dados da API: {e}\")\n",
    "finally:\n",
    "    # Opcional: manter o navegador aberto se quiser inspecionar algo manualmente após a API\n",
    "    # driver.quit() # Comente ou remova esta linha se quiser manter o navegador aberto\n",
    "    print(\"Navegador fechado (se o driver foi fechado).\")"
   ]
  },
  {
   "cell_type": "code",
   "execution_count": null,
   "id": "7a9ab60e-dc14-401e-8be6-177a38aafb6e",
   "metadata": {},
   "outputs": [],
   "source": [
    "# Célula 5: Fechar o Navegador\n",
    "driver.quit()\n",
    "print(\"Navegador fechado.\")"
   ]
  }
 ],
 "metadata": {
  "kernelspec": {
   "display_name": "Python 3 (ipykernel)",
   "language": "python",
   "name": "python3"
  },
  "language_info": {
   "codemirror_mode": {
    "name": "ipython",
    "version": 3
   },
   "file_extension": ".py",
   "mimetype": "text/x-python",
   "name": "python",
   "nbconvert_exporter": "python",
   "pygments_lexer": "ipython3",
   "version": "3.10.16"
  }
 },
 "nbformat": 4,
 "nbformat_minor": 5
}

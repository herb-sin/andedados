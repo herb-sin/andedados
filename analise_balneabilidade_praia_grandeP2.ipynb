{
 "cells": [
  {
   "cell_type": "markdown",
   "id": "1a4d55c5",
   "metadata": {},
   "source": [
    "# 🏖️ Análise da Qualidade da Água nas Praias de Praia Grande (SP)\n",
    "Este notebook apresenta uma análise exploratória dos dados de balneabilidade coletados da CETESB referentes às praias da cidade de Praia Grande.\n",
    "**Fonte:** Companhia Ambiental do Estado de São Paulo (CETESB)\n",
    "\n",
    "📅 Data da amostra: 25/05/2025  \n",
    "📦 Dados obtidos em: 31/05/2025"
   ]
  },
  {
   "cell_type": "code",
   "execution_count": 13,
   "id": "55012c5b",
   "metadata": {},
   "outputs": [
    {
     "data": {
      "text/html": [
       "<div>\n",
       "<style scoped>\n",
       "    .dataframe tbody tr th:only-of-type {\n",
       "        vertical-align: middle;\n",
       "    }\n",
       "\n",
       "    .dataframe tbody tr th {\n",
       "        vertical-align: top;\n",
       "    }\n",
       "\n",
       "    .dataframe thead th {\n",
       "        text-align: right;\n",
       "    }\n",
       "</style>\n",
       "<table border=\"1\" class=\"dataframe\">\n",
       "  <thead>\n",
       "    <tr style=\"text-align: right;\">\n",
       "      <th></th>\n",
       "      <th>ID_Objeto</th>\n",
       "      <th>ID_Praia</th>\n",
       "      <th>ID_Municipio</th>\n",
       "      <th>Cod_Municipio_IBGE</th>\n",
       "      <th>Municipio</th>\n",
       "      <th>Praia</th>\n",
       "      <th>Classificacao_Agua</th>\n",
       "      <th>Data_Amostra_Inicio</th>\n",
       "      <th>Data_Atualizacao_Sistema</th>\n",
       "      <th>UGRHI</th>\n",
       "      <th>Dist_Norte</th>\n",
       "      <th>Qualidade_Codigo</th>\n",
       "    </tr>\n",
       "  </thead>\n",
       "  <tbody>\n",
       "    <tr>\n",
       "      <th>0</th>\n",
       "      <td>134</td>\n",
       "      <td>PGCF390</td>\n",
       "      <td>558</td>\n",
       "      <td>3541000</td>\n",
       "      <td>PRAIA GRANDE</td>\n",
       "      <td>CANTO DO FORTE</td>\n",
       "      <td>Própria</td>\n",
       "      <td>2025-05-25</td>\n",
       "      <td>2025-05-29 12:10:03.969</td>\n",
       "      <td>Baixada Santista</td>\n",
       "      <td>390</td>\n",
       "      <td>1</td>\n",
       "    </tr>\n",
       "    <tr>\n",
       "      <th>1</th>\n",
       "      <td>135</td>\n",
       "      <td>PGBO393</td>\n",
       "      <td>558</td>\n",
       "      <td>3541000</td>\n",
       "      <td>PRAIA GRANDE</td>\n",
       "      <td>BOQUEIRÃO</td>\n",
       "      <td>Própria</td>\n",
       "      <td>2025-05-25</td>\n",
       "      <td>2025-05-29 12:10:03.969</td>\n",
       "      <td>Baixada Santista</td>\n",
       "      <td>393</td>\n",
       "      <td>1</td>\n",
       "    </tr>\n",
       "    <tr>\n",
       "      <th>2</th>\n",
       "      <td>138</td>\n",
       "      <td>PGJM398</td>\n",
       "      <td>558</td>\n",
       "      <td>3541000</td>\n",
       "      <td>PRAIA GRANDE</td>\n",
       "      <td>VILA TUPI</td>\n",
       "      <td>Imprópria</td>\n",
       "      <td>2025-05-25</td>\n",
       "      <td>2025-05-29 12:10:03.969</td>\n",
       "      <td>Baixada Santista</td>\n",
       "      <td>398</td>\n",
       "      <td>0</td>\n",
       "    </tr>\n",
       "    <tr>\n",
       "      <th>3</th>\n",
       "      <td>144</td>\n",
       "      <td>PGFL411</td>\n",
       "      <td>558</td>\n",
       "      <td>3541000</td>\n",
       "      <td>PRAIA GRANDE</td>\n",
       "      <td>BALNEARIO FLÓRIDA</td>\n",
       "      <td>Imprópria</td>\n",
       "      <td>2025-05-25</td>\n",
       "      <td>2025-05-29 12:10:03.969</td>\n",
       "      <td>Baixada Santista</td>\n",
       "      <td>411</td>\n",
       "      <td>0</td>\n",
       "    </tr>\n",
       "    <tr>\n",
       "      <th>4</th>\n",
       "      <td>140</td>\n",
       "      <td>PGVM401</td>\n",
       "      <td>558</td>\n",
       "      <td>3541000</td>\n",
       "      <td>PRAIA GRANDE</td>\n",
       "      <td>VILA MIRIM</td>\n",
       "      <td>Imprópria</td>\n",
       "      <td>2025-05-25</td>\n",
       "      <td>2025-05-29 12:10:03.969</td>\n",
       "      <td>Baixada Santista</td>\n",
       "      <td>401</td>\n",
       "      <td>0</td>\n",
       "    </tr>\n",
       "  </tbody>\n",
       "</table>\n",
       "</div>"
      ],
      "text/plain": [
       "   ID_Objeto ID_Praia  ID_Municipio  Cod_Municipio_IBGE     Municipio  \\\n",
       "0        134  PGCF390           558             3541000  PRAIA GRANDE   \n",
       "1        135  PGBO393           558             3541000  PRAIA GRANDE   \n",
       "2        138  PGJM398           558             3541000  PRAIA GRANDE   \n",
       "3        144  PGFL411           558             3541000  PRAIA GRANDE   \n",
       "4        140  PGVM401           558             3541000  PRAIA GRANDE   \n",
       "\n",
       "               Praia Classificacao_Agua Data_Amostra_Inicio  \\\n",
       "0     CANTO DO FORTE            Própria          2025-05-25   \n",
       "1          BOQUEIRÃO            Própria          2025-05-25   \n",
       "2          VILA TUPI          Imprópria          2025-05-25   \n",
       "3  BALNEARIO FLÓRIDA          Imprópria          2025-05-25   \n",
       "4         VILA MIRIM          Imprópria          2025-05-25   \n",
       "\n",
       "  Data_Atualizacao_Sistema             UGRHI  Dist_Norte  Qualidade_Codigo  \n",
       "0  2025-05-29 12:10:03.969  Baixada Santista         390                 1  \n",
       "1  2025-05-29 12:10:03.969  Baixada Santista         393                 1  \n",
       "2  2025-05-29 12:10:03.969  Baixada Santista         398                 0  \n",
       "3  2025-05-29 12:10:03.969  Baixada Santista         411                 0  \n",
       "4  2025-05-29 12:10:03.969  Baixada Santista         401                 0  "
      ]
     },
     "execution_count": 13,
     "metadata": {},
     "output_type": "execute_result"
    }
   ],
   "source": [
    "import pandas as pd\n",
    "import matplotlib.pyplot as plt\n",
    "import seaborn as sns\n",
    "import numpy as np\n",
    "\n",
    "# Configuração estética dos gráficos\n",
    "sns.set(style='whitegrid')\n",
    "\n",
    "# Carregamento do dataset\n",
    "df = pd.read_csv('qualidade_agua_praia_grande.csv')\n",
    "df.head()"
   ]
  },
  {
   "cell_type": "code",
   "execution_count": 14,
   "id": "6611d7cc",
   "metadata": {},
   "outputs": [
    {
     "name": "stdout",
     "output_type": "stream",
     "text": [
      "<class 'pandas.core.frame.DataFrame'>\n",
      "RangeIndex: 12 entries, 0 to 11\n",
      "Data columns (total 12 columns):\n",
      " #   Column                    Non-Null Count  Dtype \n",
      "---  ------                    --------------  ----- \n",
      " 0   ID_Objeto                 12 non-null     int64 \n",
      " 1   ID_Praia                  12 non-null     object\n",
      " 2   ID_Municipio              12 non-null     int64 \n",
      " 3   Cod_Municipio_IBGE        12 non-null     int64 \n",
      " 4   Municipio                 12 non-null     object\n",
      " 5   Praia                     12 non-null     object\n",
      " 6   Classificacao_Agua        12 non-null     object\n",
      " 7   Data_Amostra_Inicio       12 non-null     object\n",
      " 8   Data_Atualizacao_Sistema  12 non-null     object\n",
      " 9   UGRHI                     12 non-null     object\n",
      " 10  Dist_Norte                12 non-null     int64 \n",
      " 11  Qualidade_Codigo          12 non-null     int64 \n",
      "dtypes: int64(5), object(7)\n",
      "memory usage: 1.2+ KB\n"
     ]
    }
   ],
   "source": [
    "# Informações básicas sobre o dataset\n",
    "df.info()"
   ]
  },
  {
   "cell_type": "code",
   "execution_count": 15,
   "id": "e44c1d22",
   "metadata": {},
   "outputs": [
    {
     "data": {
      "text/plain": [
       "ID_Objeto                   0\n",
       "ID_Praia                    0\n",
       "ID_Municipio                0\n",
       "Cod_Municipio_IBGE          0\n",
       "Municipio                   0\n",
       "Praia                       0\n",
       "Classificacao_Agua          0\n",
       "Data_Amostra_Inicio         0\n",
       "Data_Atualizacao_Sistema    0\n",
       "UGRHI                       0\n",
       "Dist_Norte                  0\n",
       "Qualidade_Codigo            0\n",
       "dtype: int64"
      ]
     },
     "execution_count": 15,
     "metadata": {},
     "output_type": "execute_result"
    }
   ],
   "source": [
    "# Verificação de valores ausentes\n",
    "df.isnull().sum()"
   ]
  },
  {
   "cell_type": "code",
   "execution_count": 16,
   "id": "933341af",
   "metadata": {},
   "outputs": [
    {
     "data": {
      "text/html": [
       "<div>\n",
       "<style scoped>\n",
       "    .dataframe tbody tr th:only-of-type {\n",
       "        vertical-align: middle;\n",
       "    }\n",
       "\n",
       "    .dataframe tbody tr th {\n",
       "        vertical-align: top;\n",
       "    }\n",
       "\n",
       "    .dataframe thead th {\n",
       "        text-align: right;\n",
       "    }\n",
       "</style>\n",
       "<table border=\"1\" class=\"dataframe\">\n",
       "  <thead>\n",
       "    <tr style=\"text-align: right;\">\n",
       "      <th></th>\n",
       "      <th>ID_Objeto</th>\n",
       "      <th>ID_Municipio</th>\n",
       "      <th>Cod_Municipio_IBGE</th>\n",
       "      <th>Dist_Norte</th>\n",
       "      <th>Qualidade_Codigo</th>\n",
       "    </tr>\n",
       "  </thead>\n",
       "  <tbody>\n",
       "    <tr>\n",
       "      <th>count</th>\n",
       "      <td>12.000000</td>\n",
       "      <td>12.0</td>\n",
       "      <td>12.0</td>\n",
       "      <td>12.00000</td>\n",
       "      <td>12.000000</td>\n",
       "    </tr>\n",
       "    <tr>\n",
       "      <th>mean</th>\n",
       "      <td>139.500000</td>\n",
       "      <td>558.0</td>\n",
       "      <td>3541000.0</td>\n",
       "      <td>401.50000</td>\n",
       "      <td>0.500000</td>\n",
       "    </tr>\n",
       "    <tr>\n",
       "      <th>std</th>\n",
       "      <td>3.605551</td>\n",
       "      <td>0.0</td>\n",
       "      <td>0.0</td>\n",
       "      <td>7.40393</td>\n",
       "      <td>0.522233</td>\n",
       "    </tr>\n",
       "    <tr>\n",
       "      <th>min</th>\n",
       "      <td>134.000000</td>\n",
       "      <td>558.0</td>\n",
       "      <td>3541000.0</td>\n",
       "      <td>390.00000</td>\n",
       "      <td>0.000000</td>\n",
       "    </tr>\n",
       "    <tr>\n",
       "      <th>25%</th>\n",
       "      <td>136.750000</td>\n",
       "      <td>558.0</td>\n",
       "      <td>3541000.0</td>\n",
       "      <td>396.50000</td>\n",
       "      <td>0.000000</td>\n",
       "    </tr>\n",
       "    <tr>\n",
       "      <th>50%</th>\n",
       "      <td>139.500000</td>\n",
       "      <td>558.0</td>\n",
       "      <td>3541000.0</td>\n",
       "      <td>400.50000</td>\n",
       "      <td>0.500000</td>\n",
       "    </tr>\n",
       "    <tr>\n",
       "      <th>75%</th>\n",
       "      <td>142.250000</td>\n",
       "      <td>558.0</td>\n",
       "      <td>3541000.0</td>\n",
       "      <td>407.00000</td>\n",
       "      <td>1.000000</td>\n",
       "    </tr>\n",
       "    <tr>\n",
       "      <th>max</th>\n",
       "      <td>145.000000</td>\n",
       "      <td>558.0</td>\n",
       "      <td>3541000.0</td>\n",
       "      <td>413.00000</td>\n",
       "      <td>1.000000</td>\n",
       "    </tr>\n",
       "  </tbody>\n",
       "</table>\n",
       "</div>"
      ],
      "text/plain": [
       "        ID_Objeto  ID_Municipio  Cod_Municipio_IBGE  Dist_Norte  \\\n",
       "count   12.000000          12.0                12.0    12.00000   \n",
       "mean   139.500000         558.0           3541000.0   401.50000   \n",
       "std      3.605551           0.0                 0.0     7.40393   \n",
       "min    134.000000         558.0           3541000.0   390.00000   \n",
       "25%    136.750000         558.0           3541000.0   396.50000   \n",
       "50%    139.500000         558.0           3541000.0   400.50000   \n",
       "75%    142.250000         558.0           3541000.0   407.00000   \n",
       "max    145.000000         558.0           3541000.0   413.00000   \n",
       "\n",
       "       Qualidade_Codigo  \n",
       "count         12.000000  \n",
       "mean           0.500000  \n",
       "std            0.522233  \n",
       "min            0.000000  \n",
       "25%            0.000000  \n",
       "50%            0.500000  \n",
       "75%            1.000000  \n",
       "max            1.000000  "
      ]
     },
     "execution_count": 16,
     "metadata": {},
     "output_type": "execute_result"
    }
   ],
   "source": [
    "# Estatísticas descritivas gerais\n",
    "df.describe()"
   ]
  },
  {
   "cell_type": "code",
   "execution_count": 17,
   "id": "020cc3b5",
   "metadata": {},
   "outputs": [
    {
     "data": {
      "text/plain": [
       "Classificacao_Agua\n",
       "Própria      6\n",
       "Imprópria    6\n",
       "Name: count, dtype: int64"
      ]
     },
     "execution_count": 17,
     "metadata": {},
     "output_type": "execute_result"
    }
   ],
   "source": [
    "# Contagem de praias por classificação da água\n",
    "df['Classificacao_Agua'].value_counts()"
   ]
  },
  {
   "cell_type": "code",
   "execution_count": 18,
   "id": "0ab80c9b",
   "metadata": {},
   "outputs": [
    {
     "data": {
      "image/png": "[encoded data removed]",
      "text/plain": [
       "<Figure size 640x480 with 1 Axes>"
      ]
     },
     "metadata": {},
     "output_type": "display_data"
    }
   ],
   "source": [
    "# Gráfico de barras: número de praias por classificação\n",
    "sns.countplot(data=df, x='Classificacao_Agua', hue='Classificacao_Agua', palette='Set2', legend=False)\n",
    "plt.title('Número de Praias por Classificação da Água')\n",
    "plt.xlabel('Classificação da Água')\n",
    "plt.ylabel('Quantidade de Praias')\n",
    "plt.show()\n"
   ]
  },
  {
   "cell_type": "code",
   "execution_count": 19,
   "id": "3563d5f4",
   "metadata": {},
   "outputs": [
    {
     "data": {
      "image/png": "[encoded data removed]",
      "text/plain": [
       "<Figure size 640x480 with 1 Axes>"
      ]
     },
     "metadata": {},
     "output_type": "display_data"
    }
   ],
   "source": [
    "# Gráfico de pizza: proporção de praias próprias vs. impróprias\n",
    "df['Classificacao_Agua'].value_counts().plot.pie(autopct='%1.1f%%', startangle=90, colors=['#66c2a5', '#fc8d62'])\n",
    "plt.title('Proporção Geral da Classificação da Água')\n",
    "plt.ylabel('')\n",
    "plt.show()"
   ]
  },
  {
   "cell_type": "code",
   "execution_count": 20,
   "id": "0a812935",
   "metadata": {},
   "outputs": [
    {
     "data": {
      "image/png": "[encoded data removed]",
      "text/plain": [
       "<Figure size 640x480 with 1 Axes>"
      ]
     },
     "metadata": {},
     "output_type": "display_data"
    }
   ],
   "source": [
    "# Adiciona uma coluna auxiliar só com um valor\n",
    "df['dummy'] = 'Dist_Norte'\n",
    "\n",
    "# Corrige o boxplot usando hue e legend=False\n",
    "sns.boxplot(data=df, x='dummy', y='Dist_Norte', hue='dummy', palette='pastel', legend=False)\n",
    "plt.title('Distribuição da Distância Norte das Praias')\n",
    "plt.xlabel('')  # Opcional: remove o rótulo do eixo X\n",
    "plt.show()\n"
   ]
  },
  {
   "cell_type": "code",
   "execution_count": 21,
   "id": "9bbf8e6e",
   "metadata": {},
   "outputs": [
    {
     "data": {
      "text/html": [
       "<div>\n",
       "<style scoped>\n",
       "    .dataframe tbody tr th:only-of-type {\n",
       "        vertical-align: middle;\n",
       "    }\n",
       "\n",
       "    .dataframe tbody tr th {\n",
       "        vertical-align: top;\n",
       "    }\n",
       "\n",
       "    .dataframe thead th {\n",
       "        text-align: right;\n",
       "    }\n",
       "</style>\n",
       "<table border=\"1\" class=\"dataframe\">\n",
       "  <thead>\n",
       "    <tr style=\"text-align: right;\">\n",
       "      <th>Classificacao_Agua</th>\n",
       "      <th>Imprópria</th>\n",
       "      <th>Própria</th>\n",
       "    </tr>\n",
       "    <tr>\n",
       "      <th>Praia</th>\n",
       "      <th></th>\n",
       "      <th></th>\n",
       "    </tr>\n",
       "  </thead>\n",
       "  <tbody>\n",
       "    <tr>\n",
       "      <th>AVIAÇÃO</th>\n",
       "      <td>1</td>\n",
       "      <td>0</td>\n",
       "    </tr>\n",
       "    <tr>\n",
       "      <th>BALNEARIO FLÓRIDA</th>\n",
       "      <td>1</td>\n",
       "      <td>0</td>\n",
       "    </tr>\n",
       "    <tr>\n",
       "      <th>BOQUEIRÃO</th>\n",
       "      <td>0</td>\n",
       "      <td>1</td>\n",
       "    </tr>\n",
       "    <tr>\n",
       "      <th>CANTO DO FORTE</th>\n",
       "      <td>0</td>\n",
       "      <td>1</td>\n",
       "    </tr>\n",
       "    <tr>\n",
       "      <th>GUILHERMINA</th>\n",
       "      <td>1</td>\n",
       "      <td>0</td>\n",
       "    </tr>\n",
       "    <tr>\n",
       "      <th>JARDIM SOLEMAR</th>\n",
       "      <td>0</td>\n",
       "      <td>1</td>\n",
       "    </tr>\n",
       "    <tr>\n",
       "      <th>MARACANÃ</th>\n",
       "      <td>1</td>\n",
       "      <td>0</td>\n",
       "    </tr>\n",
       "    <tr>\n",
       "      <th>OCIAN</th>\n",
       "      <td>0</td>\n",
       "      <td>1</td>\n",
       "    </tr>\n",
       "    <tr>\n",
       "      <th>REAL</th>\n",
       "      <td>0</td>\n",
       "      <td>1</td>\n",
       "    </tr>\n",
       "    <tr>\n",
       "      <th>VILA CAIÇARA</th>\n",
       "      <td>0</td>\n",
       "      <td>1</td>\n",
       "    </tr>\n",
       "    <tr>\n",
       "      <th>VILA MIRIM</th>\n",
       "      <td>1</td>\n",
       "      <td>0</td>\n",
       "    </tr>\n",
       "    <tr>\n",
       "      <th>VILA TUPI</th>\n",
       "      <td>1</td>\n",
       "      <td>0</td>\n",
       "    </tr>\n",
       "  </tbody>\n",
       "</table>\n",
       "</div>"
      ],
      "text/plain": [
       "Classificacao_Agua  Imprópria  Própria\n",
       "Praia                                 \n",
       "AVIAÇÃO                     1        0\n",
       "BALNEARIO FLÓRIDA           1        0\n",
       "BOQUEIRÃO                   0        1\n",
       "CANTO DO FORTE              0        1\n",
       "GUILHERMINA                 1        0\n",
       "JARDIM SOLEMAR              0        1\n",
       "MARACANÃ                    1        0\n",
       "OCIAN                       0        1\n",
       "REAL                        0        1\n",
       "VILA CAIÇARA                0        1\n",
       "VILA MIRIM                  1        0\n",
       "VILA TUPI                   1        0"
      ]
     },
     "execution_count": 21,
     "metadata": {},
     "output_type": "execute_result"
    }
   ],
   "source": [
    "# Agregação 1: Quantidade por praia e classificação\n",
    "df.groupby(['Praia', 'Classificacao_Agua']).size().unstack(fill_value=0)"
   ]
  },
  {
   "cell_type": "code",
   "execution_count": 22,
   "id": "fbb386df",
   "metadata": {},
   "outputs": [
    {
     "data": {
      "text/plain": [
       "Classificacao_Agua\n",
       "Imprópria    401.0\n",
       "Própria      402.0\n",
       "Name: Dist_Norte, dtype: float64"
      ]
     },
     "execution_count": 22,
     "metadata": {},
     "output_type": "execute_result"
    }
   ],
   "source": [
    "# Agregação 2: Média da Dist_Norte por classificação\n",
    "df.groupby('Classificacao_Agua')['Dist_Norte'].mean()"
   ]
  },
  {
   "cell_type": "code",
   "execution_count": 23,
   "id": "c076f2fd",
   "metadata": {},
   "outputs": [
    {
     "data": {
      "text/html": [
       "<div>\n",
       "<style scoped>\n",
       "    .dataframe tbody tr th:only-of-type {\n",
       "        vertical-align: middle;\n",
       "    }\n",
       "\n",
       "    .dataframe tbody tr th {\n",
       "        vertical-align: top;\n",
       "    }\n",
       "\n",
       "    .dataframe thead th {\n",
       "        text-align: right;\n",
       "    }\n",
       "</style>\n",
       "<table border=\"1\" class=\"dataframe\">\n",
       "  <thead>\n",
       "    <tr style=\"text-align: right;\">\n",
       "      <th>Data_Amostra_Inicio</th>\n",
       "      <th>2025-05-25</th>\n",
       "    </tr>\n",
       "    <tr>\n",
       "      <th>Praia</th>\n",
       "      <th></th>\n",
       "    </tr>\n",
       "  </thead>\n",
       "  <tbody>\n",
       "    <tr>\n",
       "      <th>AVIAÇÃO</th>\n",
       "      <td>0</td>\n",
       "    </tr>\n",
       "    <tr>\n",
       "      <th>BALNEARIO FLÓRIDA</th>\n",
       "      <td>0</td>\n",
       "    </tr>\n",
       "    <tr>\n",
       "      <th>BOQUEIRÃO</th>\n",
       "      <td>1</td>\n",
       "    </tr>\n",
       "    <tr>\n",
       "      <th>CANTO DO FORTE</th>\n",
       "      <td>1</td>\n",
       "    </tr>\n",
       "    <tr>\n",
       "      <th>GUILHERMINA</th>\n",
       "      <td>0</td>\n",
       "    </tr>\n",
       "    <tr>\n",
       "      <th>JARDIM SOLEMAR</th>\n",
       "      <td>1</td>\n",
       "    </tr>\n",
       "    <tr>\n",
       "      <th>MARACANÃ</th>\n",
       "      <td>0</td>\n",
       "    </tr>\n",
       "    <tr>\n",
       "      <th>OCIAN</th>\n",
       "      <td>1</td>\n",
       "    </tr>\n",
       "    <tr>\n",
       "      <th>REAL</th>\n",
       "      <td>1</td>\n",
       "    </tr>\n",
       "    <tr>\n",
       "      <th>VILA CAIÇARA</th>\n",
       "      <td>1</td>\n",
       "    </tr>\n",
       "    <tr>\n",
       "      <th>VILA MIRIM</th>\n",
       "      <td>0</td>\n",
       "    </tr>\n",
       "    <tr>\n",
       "      <th>VILA TUPI</th>\n",
       "      <td>0</td>\n",
       "    </tr>\n",
       "  </tbody>\n",
       "</table>\n",
       "</div>"
      ],
      "text/plain": [
       "Data_Amostra_Inicio  2025-05-25\n",
       "Praia                          \n",
       "AVIAÇÃO                       0\n",
       "BALNEARIO FLÓRIDA             0\n",
       "BOQUEIRÃO                     1\n",
       "CANTO DO FORTE                1\n",
       "GUILHERMINA                   0\n",
       "JARDIM SOLEMAR                1\n",
       "MARACANÃ                      0\n",
       "OCIAN                         1\n",
       "REAL                          1\n",
       "VILA CAIÇARA                  1\n",
       "VILA MIRIM                    0\n",
       "VILA TUPI                     0"
      ]
     },
     "execution_count": 23,
     "metadata": {},
     "output_type": "execute_result"
    }
   ],
   "source": [
    "# Agregação 3: Tabela pivô com Praias e Datas\n",
    "df_pivot = df.pivot_table(values='Qualidade_Codigo', index='Praia', columns='Data_Amostra_Inicio', aggfunc='first')\n",
    "df_pivot"
   ]
  },
  {
   "cell_type": "code",
   "execution_count": 24,
   "id": "d76b8d81",
   "metadata": {},
   "outputs": [
    {
     "data": {
      "text/html": [
       "<div>\n",
       "<style scoped>\n",
       "    .dataframe tbody tr th:only-of-type {\n",
       "        vertical-align: middle;\n",
       "    }\n",
       "\n",
       "    .dataframe tbody tr th {\n",
       "        vertical-align: top;\n",
       "    }\n",
       "\n",
       "    .dataframe thead th {\n",
       "        text-align: right;\n",
       "    }\n",
       "</style>\n",
       "<table border=\"1\" class=\"dataframe\">\n",
       "  <thead>\n",
       "    <tr style=\"text-align: right;\">\n",
       "      <th></th>\n",
       "      <th>Dist_Norte</th>\n",
       "      <th>Qualidade_Codigo</th>\n",
       "    </tr>\n",
       "  </thead>\n",
       "  <tbody>\n",
       "    <tr>\n",
       "      <th>Dist_Norte</th>\n",
       "      <td>1.000000</td>\n",
       "      <td>0.070535</td>\n",
       "    </tr>\n",
       "    <tr>\n",
       "      <th>Qualidade_Codigo</th>\n",
       "      <td>0.070535</td>\n",
       "      <td>1.000000</td>\n",
       "    </tr>\n",
       "  </tbody>\n",
       "</table>\n",
       "</div>"
      ],
      "text/plain": [
       "                  Dist_Norte  Qualidade_Codigo\n",
       "Dist_Norte          1.000000          0.070535\n",
       "Qualidade_Codigo    0.070535          1.000000"
      ]
     },
     "execution_count": 24,
     "metadata": {},
     "output_type": "execute_result"
    }
   ],
   "source": [
    "# Correlação entre Dist_Norte e Qualidade_Codigo\n",
    "df['Qualidade_Codigo'] = pd.to_numeric(df['Qualidade_Codigo'], errors='coerce')\n",
    "df[['Dist_Norte', 'Qualidade_Codigo']].corr()"
   ]
  },
  {
   "cell_type": "markdown",
   "id": "a524aa20",
   "metadata": {},
   "source": [
    "## ✅ Conclusão\n",
    "- A maioria das praias estavam **impróprias** na data analisada.\n",
    "- A distância ao norte não apresentou forte correlação com a qualidade da água.\n",
    "- Análises mais profundas podem ser feitas com a coleta contínua dos dados ao longo do tempo.\n",
    "\n",
    "**Sugestão:** Automatizar a coleta semanal para análises de séries temporais e predição de balneabilidade."
   ]
  }
 ],
 "metadata": {
  "kernelspec": {
   "display_name": "Python 3 (ipykernel)",
   "language": "python",
   "name": "python3"
  },
  "language_info": {
   "codemirror_mode": {
    "name": "ipython",
    "version": 3
   },
   "file_extension": ".py",
   "mimetype": "text/x-python",
   "name": "python",
   "nbconvert_exporter": "python",
   "pygments_lexer": "ipython3",
   "version": "3.10.16"
  }
 },
 "nbformat": 4,
 "nbformat_minor": 5
}

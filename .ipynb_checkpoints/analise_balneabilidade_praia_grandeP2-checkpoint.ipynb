{
 "cells": [
  {
   "cell_type": "markdown",
   "id": "1a4d55c5",
   "metadata": {},
   "source": [
    "# 🏖️ Análise da Qualidade da Água nas Praias de Praia Grande (SP)\n",
    "Este notebook apresenta uma análise exploratória dos dados de balneabilidade coletados da CETESB referentes às praias da cidade de Praia Grande.\n",
    "**Fonte:** Companhia Ambiental do Estado de São Paulo (CETESB)\n",
    "\n",
    "📅 Data da amostra: 25/05/2025  \n",
    "📦 Dados obtidos em: 31/05/2025"
   ]
  },
  {
   "cell_type": "code",
   "execution_count": 1,
   "id": "55012c5b",
   "metadata": {},
   "outputs": [
    {
     "ename": "ModuleNotFoundError",
     "evalue": "No module named 'matplotlib'",
     "output_type": "error",
     "traceback": [
      "\u001b[0;31m---------------------------------------------------------------------------\u001b[0m",
      "\u001b[0;31mModuleNotFoundError\u001b[0m                       Traceback (most recent call last)",
      "Cell \u001b[0;32mIn[1], line 2\u001b[0m\n\u001b[1;32m      1\u001b[0m \u001b[38;5;28;01mimport\u001b[39;00m\u001b[38;5;250m \u001b[39m\u001b[38;5;21;01mpandas\u001b[39;00m\u001b[38;5;250m \u001b[39m\u001b[38;5;28;01mas\u001b[39;00m\u001b[38;5;250m \u001b[39m\u001b[38;5;21;01mpd\u001b[39;00m\n\u001b[0;32m----> 2\u001b[0m \u001b[38;5;28;01mimport\u001b[39;00m\u001b[38;5;250m \u001b[39m\u001b[38;5;21;01mmatplotlib\u001b[39;00m\u001b[38;5;21;01m.\u001b[39;00m\u001b[38;5;21;01mpyplot\u001b[39;00m\u001b[38;5;250m \u001b[39m\u001b[38;5;28;01mas\u001b[39;00m\u001b[38;5;250m \u001b[39m\u001b[38;5;21;01mplt\u001b[39;00m\n\u001b[1;32m      3\u001b[0m \u001b[38;5;28;01mimport\u001b[39;00m\u001b[38;5;250m \u001b[39m\u001b[38;5;21;01mseaborn\u001b[39;00m\u001b[38;5;250m \u001b[39m\u001b[38;5;28;01mas\u001b[39;00m\u001b[38;5;250m \u001b[39m\u001b[38;5;21;01msns\u001b[39;00m\n\u001b[1;32m      4\u001b[0m \u001b[38;5;28;01mimport\u001b[39;00m\u001b[38;5;250m \u001b[39m\u001b[38;5;21;01mnumpy\u001b[39;00m\u001b[38;5;250m \u001b[39m\u001b[38;5;28;01mas\u001b[39;00m\u001b[38;5;250m \u001b[39m\u001b[38;5;21;01mnp\u001b[39;00m\n",
      "\u001b[0;31mModuleNotFoundError\u001b[0m: No module named 'matplotlib'"
     ]
    }
   ],
   "source": [
    "import pandas as pd\n",
    "import matplotlib.pyplot as plt\n",
    "import seaborn as sns\n",
    "import numpy as np\n",
    "\n",
    "# Configuração estética dos gráficos\n",
    "sns.set(style='whitegrid')\n",
    "\n",
    "# Carregamento do dataset\n",
    "df = pd.read_csv('qualidade_agua_praia_grande.csv')\n",
    "df.head()"
   ]
  },
  {
   "cell_type": "code",
   "execution_count": null,
   "id": "6611d7cc",
   "metadata": {},
   "outputs": [],
   "source": [
    "# Informações básicas sobre o dataset\n",
    "df.info()"
   ]
  },
  {
   "cell_type": "code",
   "execution_count": null,
   "id": "e44c1d22",
   "metadata": {},
   "outputs": [],
   "source": [
    "# Verificação de valores ausentes\n",
    "df.isnull().sum()"
   ]
  },
  {
   "cell_type": "code",
   "execution_count": null,
   "id": "933341af",
   "metadata": {},
   "outputs": [],
   "source": [
    "# Estatísticas descritivas gerais\n",
    "df.describe()"
   ]
  },
  {
   "cell_type": "code",
   "execution_count": null,
   "id": "020cc3b5",
   "metadata": {},
   "outputs": [],
   "source": [
    "# Contagem de praias por classificação da água\n",
    "df['Classificacao_Agua'].value_counts()"
   ]
  },
  {
   "cell_type": "code",
   "execution_count": null,
   "id": "0ab80c9b",
   "metadata": {},
   "outputs": [],
   "source": [
    "# Gráfico de barras: número de praias por classificação\n",
    "sns.countplot(data=df, x='Classificacao_Agua', palette='Set2')\n",
    "plt.title('Número de Praias por Classificação da Água')\n",
    "plt.xlabel('Classificação da Água')\n",
    "plt.ylabel('Quantidade de Praias')\n",
    "plt.show()"
   ]
  },
  {
   "cell_type": "code",
   "execution_count": null,
   "id": "3563d5f4",
   "metadata": {},
   "outputs": [],
   "source": [
    "# Gráfico de pizza: proporção de praias próprias vs. impróprias\n",
    "df['Classificacao_Agua'].value_counts().plot.pie(autopct='%1.1f%%', startangle=90, colors=['#66c2a5', '#fc8d62'])\n",
    "plt.title('Proporção Geral da Classificação da Água')\n",
    "plt.ylabel('')\n",
    "plt.show()"
   ]
  },
  {
   "cell_type": "code",
   "execution_count": null,
   "id": "0a812935",
   "metadata": {},
   "outputs": [],
   "source": [
    "# Boxplot: distribuição da Dist_Norte\n",
    "sns.boxplot(data=df, y='Dist_Norte', palette='pastel')\n",
    "plt.title('Distribuição da Distância Norte das Praias')\n",
    "plt.show()"
   ]
  },
  {
   "cell_type": "code",
   "execution_count": null,
   "id": "9bbf8e6e",
   "metadata": {},
   "outputs": [],
   "source": [
    "# Agregação 1: Quantidade por praia e classificação\n",
    "df.groupby(['Praia', 'Classificacao_Agua']).size().unstack(fill_value=0)"
   ]
  },
  {
   "cell_type": "code",
   "execution_count": null,
   "id": "fbb386df",
   "metadata": {},
   "outputs": [],
   "source": [
    "# Agregação 2: Média da Dist_Norte por classificação\n",
    "df.groupby('Classificacao_Agua')['Dist_Norte'].mean()"
   ]
  },
  {
   "cell_type": "code",
   "execution_count": null,
   "id": "c076f2fd",
   "metadata": {},
   "outputs": [],
   "source": [
    "# Agregação 3: Tabela pivô com Praias e Datas\n",
    "df_pivot = df.pivot_table(values='Qualidade_Codigo', index='Praia', columns='Data_Amostra_Inicio', aggfunc='first')\n",
    "df_pivot"
   ]
  },
  {
   "cell_type": "code",
   "execution_count": null,
   "id": "d76b8d81",
   "metadata": {},
   "outputs": [],
   "source": [
    "# Correlação entre Dist_Norte e Qualidade_Codigo\n",
    "df['Qualidade_Codigo'] = pd.to_numeric(df['Qualidade_Codigo'], errors='coerce')\n",
    "df[['Dist_Norte', 'Qualidade_Codigo']].corr()"
   ]
  },
  {
   "cell_type": "markdown",
   "id": "a524aa20",
   "metadata": {},
   "source": [
    "## ✅ Conclusão\n",
    "- A maioria das praias estavam **impróprias** na data analisada.\n",
    "- A distância ao norte não apresentou forte correlação com a qualidade da água.\n",
    "- Análises mais profundas podem ser feitas com a coleta contínua dos dados ao longo do tempo.\n",
    "\n",
    "**Sugestão:** Automatizar a coleta semanal para análises de séries temporais e predição de balneabilidade."
   ]
  }
 ],
 "metadata": {
  "kernelspec": {
   "display_name": "Python 3 (ipykernel)",
   "language": "python",
   "name": "python3"
  },
  "language_info": {
   "codemirror_mode": {
    "name": "ipython",
    "version": 3
   },
   "file_extension": ".py",
   "mimetype": "text/x-python",
   "name": "python",
   "nbconvert_exporter": "python",
   "pygments_lexer": "ipython3",
   "version": "3.10.16"
  }
 },
 "nbformat": 4,
 "nbformat_minor": 5
}
